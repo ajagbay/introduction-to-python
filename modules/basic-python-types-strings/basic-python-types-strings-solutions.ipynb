{
 "cells": [
  {
   "cell_type": "markdown",
   "metadata": {},
   "source": [
    "# Basic Python Types: Strings Example Problem Solutions\n",
    "\n",
    "**Last Updated**: 2021-04-27\n",
    "\n",
    "Below are solutions to the example problems included in the [Basic Python Types: Strings](https://walkintheforest.com/Content/Introduction+to+Python/Basic+Python+Types+-+Strings) module notebook.\n",
    "\n",
    "## Table of Contents\n",
    "\n",
    "1. [Example Problem 1](#Example-Problem-1)\n",
    "2. [Example Problem 2](#Example-Problem-2)\n",
    "3. [Release Notes](#Release-Notes)"
   ]
  },
  {
   "cell_type": "markdown",
   "metadata": {},
   "source": [
    "## Example Problem 1"
   ]
  },
  {
   "cell_type": "code",
   "execution_count": 1,
   "metadata": {},
   "outputs": [
    {
     "name": "stdout",
     "output_type": "stream",
     "text": [
      "Your solution is correct.\n"
     ]
    }
   ],
   "source": [
    "## PROVIDED VALUES AND VARIABLES ##\n",
    "from math import pi\n",
    "\n",
    "## YOUR SOLUTION SPACE ##\n",
    "my_string = \"Pi to 8 decimal points is: {:.8f}.\".format(pi)\n",
    "\n",
    "\n",
    "## DO NOT EDIT THE CODE BELOW ##\n",
    "try:\n",
    "    assert my_string == \"Pi to 8 decimal points is: 3.14159265.\"\n",
    "    print(\"Your solution is correct.\")\n",
    "except:\n",
    "    print(\"Your answer is incorrect. Please try again.\")"
   ]
  },
  {
   "cell_type": "markdown",
   "metadata": {},
   "source": [
    "## Example Problem 2"
   ]
  },
  {
   "cell_type": "code",
   "execution_count": 2,
   "metadata": {},
   "outputs": [
    {
     "name": "stdout",
     "output_type": "stream",
     "text": [
      "Your solution is correct.\n"
     ]
    }
   ],
   "source": [
    "## PROVIDED VALUES AND VARIABLES ##\n",
    "original_sentence = \"My favorite book is The Paper Menagerie and Other Stories written by Ken Liu.\"\n",
    "\n",
    "## YOUR SOLUTION SPACE ##\n",
    "title_len = len(\"The Paper Menagerie and Other Stories\")\n",
    "title_start = original_sentence.find(\"The Paper Menagerie and Other Stories\")\n",
    "title_string = original_sentence[title_start:title_start + title_len]\n",
    "\n",
    "## DO NOT EDIT THE CODE BELOW ##\n",
    "try:\n",
    "    assert title_string == \"The Paper Menagerie and Other Stories\"\n",
    "    print(\"Your solution is correct.\")\n",
    "except:\n",
    "    print(\"Your answer is incorrect. Please try again.\")"
   ]
  },
  {
   "cell_type": "markdown",
   "metadata": {},
   "source": [
    "---\n",
    "\n",
    "## Release Notes\n",
    "\n",
    "- **2021-04-27**\n",
    "    - Initial release \n",
    "    \n",
    "---\n",
    "\n",
    "**[Return to the Introduction to Python Homepage](https://walkintheforest.com/Content/Introduction+to+Python/%F0%9F%90%8D+Introduction+to+Python)**"
   ]
  }
 ],
 "metadata": {
  "kernelspec": {
   "display_name": "Python 3",
   "language": "python",
   "name": "python3"
  },
  "language_info": {
   "codemirror_mode": {
    "name": "ipython",
    "version": 3
   },
   "file_extension": ".py",
   "mimetype": "text/x-python",
   "name": "python",
   "nbconvert_exporter": "python",
   "pygments_lexer": "ipython3",
   "version": "3.8.5"
  }
 },
 "nbformat": 4,
 "nbformat_minor": 4
}

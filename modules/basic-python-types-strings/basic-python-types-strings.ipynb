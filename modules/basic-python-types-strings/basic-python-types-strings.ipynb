{
 "cells": [
  {
   "cell_type": "markdown",
   "metadata": {},
   "source": [
    "# Basic Python Types: Strings\n",
    "\n",
    "**Last Updated**: 2021-04-27\n",
    "\n",
    "In this module, you will be introduced to the final basic Python data type: the *string (str)*. While integers and floats cover numeric data, strings represent any piece of text, from a single character to an entire book. Strings are an essential part of working with Python, and this module will show you the tools you can use to work with this crucial data type."
   ]
  },
  {
   "cell_type": "markdown",
   "metadata": {},
   "source": [
    "## Table of Contents\n",
    "\n",
    "1. [Using This Notebook](#Using-This-Notebook)\n",
    "2. [Constructing Strings](#Constructing-Strings)\n",
    "3. [Splitting Strings](#Splitting-Strings)\n",
    "4. [Concatenating Strings](#Concatenating-Strings)\n",
    "5. [Structure of a String](#Structure-of-a-String)\n",
    "6. [Searching for a Substring](#Searching-for-a-Substring)\n",
    "7. [String Formatting](#String-Formatting)\n",
    "8. [Example Problems](#Example-Problems)\n",
    "9. [Closing](#Closing)\n",
    "10. [Release Notes](#Release-Notes)"
   ]
  },
  {
   "cell_type": "markdown",
   "metadata": {},
   "source": [
    "## Using This Notebook\n",
    "\n",
    "To use this notebook, first reset the kernel and clear all of the outputs. After, work through the notebook in sequential order, running any code cells as they appear. Code cells for the example problems may not run correctly until you fill in the indicated sections with your solutions."
   ]
  },
  {
   "cell_type": "markdown",
   "metadata": {},
   "source": [
    "## Constructing Strings\n",
    "\n",
    "There are two primary ways we can define a new string: we can either wrap some text in 1) double quotes (\") or 2) single quotes('). You cannot use one single quote and one double quote, however. There is no functional difference between using either method, but it is recommended that you use only one style for the entire file or project."
   ]
  },
  {
   "cell_type": "code",
   "execution_count": 1,
   "metadata": {},
   "outputs": [
    {
     "name": "stdout",
     "output_type": "stream",
     "text": [
      "This is a string defined using single quotes\n",
      "This is a string defined using double quotes\n"
     ]
    }
   ],
   "source": [
    "string_single = 'This is a string defined using single quotes'\n",
    "string_double = \"This is a string defined using double quotes\"\n",
    "\n",
    "print(string_single)\n",
    "print(string_double)"
   ]
  },
  {
   "cell_type": "markdown",
   "metadata": {},
   "source": [
    "Certain characters, such as the double quotes or single quotes that define the string, require a special *escape character* (`\\`) when included in the string."
   ]
  },
  {
   "cell_type": "code",
   "execution_count": 2,
   "metadata": {},
   "outputs": [
    {
     "name": "stdout",
     "output_type": "stream",
     "text": [
      "This notebook is named \"Basic Python Types\".\n",
      "This isn't too bad...\n"
     ]
    }
   ],
   "source": [
    "# The \" must be escaped because it would normal define the string boundary\n",
    "string_esc_1 = \"This notebook is named \\\"Basic Python Types\\\".\"\n",
    "\n",
    "# The ' does not have to be scaped because the string is defined by \"\n",
    "string_esc_2 = \"This isn't too bad...\"\n",
    "\n",
    "print(string_esc_1)\n",
    "print(string_esc_2)"
   ]
  },
  {
   "cell_type": "markdown",
   "metadata": {},
   "source": [
    "## Splitting Strings\n",
    "\n",
    "In some cases, you may want to *split* strings into individual words or sections. Python offers the `str.split()` method to do this."
   ]
  },
  {
   "cell_type": "code",
   "execution_count": 3,
   "metadata": {},
   "outputs": [
    {
     "name": "stdout",
     "output_type": "stream",
     "text": [
      "['The', 'answer', 'to', 'life,', 'the', 'universe,', 'and', 'everything', 'is', '42.']\n",
      "['A', 'dash', 'separated', 'string.']\n"
     ]
    }
   ],
   "source": [
    "# By default, split() separates on white space\n",
    "unsplit_string1 = \"The answer to life, the universe, and everything is 42.\"\n",
    "print(unsplit_string1.split())\n",
    "\n",
    "# You can specify a separator instead of using white space\n",
    "unsplit_string2 = \"A-dash-separated-string.\"\n",
    "print(unsplit_string2.split('-'))"
   ]
  },
  {
   "cell_type": "markdown",
   "metadata": {},
   "source": [
    "## Concatenating Strings\n",
    "In other cases, you may want to combine, or *concatenate* multiple strings. There are three ways you can do this operation. First, you can use the addition (`+`) operator to combine multiple strings in a similar way to adding numeric types. Notably, the addition operator doesn't add any separators, so you must explicitly include spaces if needed."
   ]
  },
  {
   "cell_type": "code",
   "execution_count": 4,
   "metadata": {},
   "outputs": [
    {
     "name": "stdout",
     "output_type": "stream",
     "text": [
      "Hello world!\n"
     ]
    }
   ],
   "source": [
    "# Use the `+` operator like a numeric type\n",
    "add_greetings = \"Hello\" + \" \" + \"world!\"\n",
    "print(add_greetings)"
   ]
  },
  {
   "cell_type": "markdown",
   "metadata": {},
   "source": [
    "You can also use the multiplication (`*`) operator to create a new string made up of duplicates. Similar to the situation above, the operator does not add white space or separators when creating the final output."
   ]
  },
  {
   "cell_type": "code",
   "execution_count": 5,
   "metadata": {},
   "outputs": [
    {
     "name": "stdout",
     "output_type": "stream",
     "text": [
      "Hello world! Hello world! Hello world! Hello world! Hello world! \n"
     ]
    }
   ],
   "source": [
    "# Use the `*` operator like a numeric type\n",
    "mult_greetings = \"Hello world! \" * 5\n",
    "print(mult_greetings)"
   ]
  },
  {
   "cell_type": "markdown",
   "metadata": {},
   "source": [
    "Lastly, Python offers the `str.join()` method to combine strings. This method allows you to define the *separator* that it will use to generate the concatenated string."
   ]
  },
  {
   "cell_type": "code",
   "execution_count": 6,
   "metadata": {},
   "outputs": [
    {
     "name": "stdout",
     "output_type": "stream",
     "text": [
      "Hello world!\n"
     ]
    }
   ],
   "source": [
    "# Use str.join()\n",
    "sep = \" \"  # Use a \" \" separator\n",
    "join_greeting = sep.join([\"Hello\", \"world!\"])\n",
    "print(join_greeting)"
   ]
  },
  {
   "cell_type": "markdown",
   "metadata": {},
   "source": [
    "## Structure of a String\n",
    "\n",
    "Before we move into more complicated methods, let's take a closer look at the structure of a string. In Python, a string is simply a list of individual characters. These characters are given an *implicit* numeric location, or **index**, starting at 0. To access a specific character by its index, you use *square bracket indexing*: `my_string[index]`. For example, let's take a look at the string \"Hello, world!\"."
   ]
  },
  {
   "cell_type": "code",
   "execution_count": 7,
   "metadata": {},
   "outputs": [
    {
     "name": "stdout",
     "output_type": "stream",
     "text": [
      "H\n"
     ]
    }
   ],
   "source": [
    "# Let's create variable so we can work with it\n",
    "hello = \"Hello, world!\"\n",
    "\n",
    "# Python is 0-indexed, so the first character is associated with index 0\n",
    "print(hello[0])"
   ]
  },
  {
   "cell_type": "markdown",
   "metadata": {},
   "source": [
    "If you wanted the number of characters in a string, you could use the `len(my_string)` method to calculate it quickly. **Note:** because strings start at index 0, the last index of a string is actually `len(my_string) - 1`. If you try to access an index that doesn't exist, it will cause an error."
   ]
  },
  {
   "cell_type": "code",
   "execution_count": 8,
   "metadata": {},
   "outputs": [
    {
     "name": "stdout",
     "output_type": "stream",
     "text": [
      "13\n"
     ]
    }
   ],
   "source": [
    "# Let's get the length of hello\n",
    "hello_len = len(hello)\n",
    "print(hello_len)"
   ]
  },
  {
   "cell_type": "code",
   "execution_count": 9,
   "metadata": {},
   "outputs": [
    {
     "ename": "IndexError",
     "evalue": "string index out of range",
     "output_type": "error",
     "traceback": [
      "\u001b[0;31m---------------------------------------------------------------------------\u001b[0m",
      "\u001b[0;31mIndexError\u001b[0m                                Traceback (most recent call last)",
      "\u001b[0;32m<ipython-input-9-0d55dcbb9684>\u001b[0m in \u001b[0;36m<module>\u001b[0;34m\u001b[0m\n\u001b[1;32m      1\u001b[0m \u001b[0;31m# If you access an index outside of the string, an error is raised\u001b[0m\u001b[0;34m\u001b[0m\u001b[0;34m\u001b[0m\u001b[0;34m\u001b[0m\u001b[0m\n\u001b[0;32m----> 2\u001b[0;31m \u001b[0mhello\u001b[0m\u001b[0;34m[\u001b[0m\u001b[0mhello_len\u001b[0m\u001b[0;34m]\u001b[0m  \u001b[0;31m# Remember that you need to subtract 1 from the len\u001b[0m\u001b[0;34m\u001b[0m\u001b[0;34m\u001b[0m\u001b[0m\n\u001b[0m",
      "\u001b[0;31mIndexError\u001b[0m: string index out of range"
     ]
    }
   ],
   "source": [
    "# If you access an index outside of the string, an error is raised\n",
    "hello[hello_len]  # Remember that you need to subtract 1 from the len"
   ]
  },
  {
   "cell_type": "markdown",
   "metadata": {},
   "source": [
    "## String Splicing and Substrings\n",
    "\n",
    "You may often want to grab a small piece, or *substring*, of a larger string. This process, called **splicing**, utilizes the index position introduced in the section above to define the start and endpoints of the substring you want. In fact, the syntax we used to get a specific character is a single-character splicing operator! The syntax for more complicated substrings builds upon that syntax"
   ]
  },
  {
   "cell_type": "code",
   "execution_count": 10,
   "metadata": {},
   "outputs": [
    {
     "data": {
      "text/plain": [
       "'Hello'"
      ]
     },
     "execution_count": 10,
     "metadata": {},
     "output_type": "execute_result"
    }
   ],
   "source": [
    "# Use start:stop to define the range\n",
    "# The stop index is not included\n",
    "\n",
    "hello[0:5]"
   ]
  },
  {
   "cell_type": "code",
   "execution_count": 11,
   "metadata": {},
   "outputs": [
    {
     "data": {
      "text/plain": [
       "'world!'"
      ]
     },
     "execution_count": 11,
     "metadata": {},
     "output_type": "execute_result"
    }
   ],
   "source": [
    "# You can slice from anywhere within the string\n",
    "hello[7:13]"
   ]
  },
  {
   "cell_type": "code",
   "execution_count": 12,
   "metadata": {},
   "outputs": [
    {
     "name": "stdout",
     "output_type": "stream",
     "text": [
      "Hello\n",
      "world!\n"
     ]
    }
   ],
   "source": [
    "# You can use a : as a shortcut notation for the first or last character\n",
    "print(hello[:5])  # Shortcut for first character until stop\n",
    "print(hello[7::])  # Shortcut to start until last character"
   ]
  },
  {
   "cell_type": "code",
   "execution_count": 13,
   "metadata": {},
   "outputs": [
    {
     "data": {
      "text/plain": [
       "'world!'"
      ]
     },
     "execution_count": 13,
     "metadata": {},
     "output_type": "execute_result"
    }
   ],
   "source": [
    "# You can use a negative start number to slice from the back\n",
    "hello[-6::]"
   ]
  },
  {
   "cell_type": "code",
   "execution_count": 14,
   "metadata": {},
   "outputs": [
    {
     "data": {
      "text/plain": [
       "'Hlo ol!'"
      ]
     },
     "execution_count": 14,
     "metadata": {},
     "output_type": "execute_result"
    }
   ],
   "source": [
    "# You can also determine how frequently you pick characters by passing in a third number\n",
    "hello[::2]  # Pick every 2nd character"
   ]
  },
  {
   "cell_type": "markdown",
   "metadata": {},
   "source": [
    "## Searching for a Substring\n",
    "\n",
    "Sometimes, you want to determine if a string exists in another string. Depending on what you want to do, there are two ways you can do this: using `str.find()` or using the `in` operator."
   ]
  },
  {
   "cell_type": "code",
   "execution_count": 15,
   "metadata": {},
   "outputs": [
    {
     "data": {
      "text/plain": [
       "7"
      ]
     },
     "execution_count": 15,
     "metadata": {},
     "output_type": "execute_result"
    }
   ],
   "source": [
    "# `str.find()` will return the location of the first instance search string.\n",
    "hello.find(\"world\")"
   ]
  },
  {
   "cell_type": "code",
   "execution_count": 16,
   "metadata": {},
   "outputs": [
    {
     "data": {
      "text/plain": [
       "-1"
      ]
     },
     "execution_count": 16,
     "metadata": {},
     "output_type": "execute_result"
    }
   ],
   "source": [
    "# str.find() will return -1 if the search string doesn't exist\n",
    "hello.find(\"Greetings\")"
   ]
  },
  {
   "cell_type": "code",
   "execution_count": 17,
   "metadata": {},
   "outputs": [
    {
     "data": {
      "text/plain": [
       "True"
      ]
     },
     "execution_count": 17,
     "metadata": {},
     "output_type": "execute_result"
    }
   ],
   "source": [
    "# the in operator is a Boolean operator that returns true if the search string exists\n",
    "\"Hello\" in hello"
   ]
  },
  {
   "cell_type": "markdown",
   "metadata": {},
   "source": [
    "Therefore, if you should use `str.find()` only if you need the exact location of the substring. Otherwise, you should use the `in` operator."
   ]
  },
  {
   "cell_type": "markdown",
   "metadata": {},
   "source": [
    "## String Formatting\n",
    "\n",
    "In all of the previous examples, we created strings by hard-coding the characters directly. However, you may want to create dynamic strings that use variables or other values from other parts of your script. To insert these values into a string, you can use a process called *string formatting*. The method that we use for formatting is the `string.format()` method. The `string.format()` method has many options to customize the output (see the [documentation](https://docs.python.org/3/library/string.html#formatstrings)), but we will only cover a subset of these options in this module.\n",
    "\n",
    "In general, the syntax for this method is the following:\n",
    "\n",
    "```python\n",
    "\"This is a string that {} will edit\".format(values_to_insert)\n",
    "```\n",
    "\n",
    "In the original string, you use *placeholders*, or `{}` to indicate the location to insert a value. Then, you pass comma-separated values that will be inserted to the `.format()` method."
   ]
  },
  {
   "cell_type": "code",
   "execution_count": 18,
   "metadata": {},
   "outputs": [
    {
     "data": {
      "text/plain": [
       "'This is a string that I will edit'"
      ]
     },
     "execution_count": 18,
     "metadata": {},
     "output_type": "execute_result"
    }
   ],
   "source": [
    "# Simple string formatting example\n",
    "\"This is a string that {} will edit\".format(\"I\")"
   ]
  },
  {
   "cell_type": "markdown",
   "metadata": {},
   "source": [
    "You can also use multiple placeholders to insert multiple values into a string. By default, each placeholder is assigned an *implicit* zero-indexed location corresponding to the order that the arugments passed to the `.format()` method."
   ]
  },
  {
   "cell_type": "code",
   "execution_count": 19,
   "metadata": {},
   "outputs": [
    {
     "data": {
      "text/plain": [
       "'Jim and Pam will work together.'"
      ]
     },
     "execution_count": 19,
     "metadata": {},
     "output_type": "execute_result"
    }
   ],
   "source": [
    "\"{} and {} will work together.\".format(\"Jim\", \"Pam\")"
   ]
  },
  {
   "cell_type": "markdown",
   "metadata": {},
   "source": [
    "However, you can provide an *explicit* location to each placeholder instead of relying on the implicit numbering. These numbers refer to the order of the arguments passed to the `.format()` method."
   ]
  },
  {
   "cell_type": "code",
   "execution_count": 20,
   "metadata": {},
   "outputs": [
    {
     "data": {
      "text/plain": [
       "'Pam and Jim will work together.'"
      ]
     },
     "execution_count": 20,
     "metadata": {},
     "output_type": "execute_result"
    }
   ],
   "source": [
    "\"{1} and {0} will work together.\".format(\"Jim\", \"Pam\")"
   ]
  },
  {
   "cell_type": "markdown",
   "metadata": {},
   "source": [
    "Instead of using an index location, you can name the arguments passed to `.format()` and use them in the placeholders. **Note: the naming of the arguments is separate from the name of a variable.**"
   ]
  },
  {
   "cell_type": "code",
   "execution_count": 21,
   "metadata": {},
   "outputs": [
    {
     "data": {
      "text/plain": [
       "'Jim and Pam will work together.'"
      ]
     },
     "execution_count": 21,
     "metadata": {},
     "output_type": "execute_result"
    }
   ],
   "source": [
    "person1 = \"Jim\"\n",
    "person2 = \"Pam\"\n",
    "\n",
    "\"{person1} and {person2} will work together.\".format(person1 = person1, person2 = person2)"
   ]
  },
  {
   "cell_type": "markdown",
   "metadata": {},
   "source": [
    "You can also pass numeric types directly as a `.format()` argument instead of having to explicitly convert into a string."
   ]
  },
  {
   "cell_type": "code",
   "execution_count": 22,
   "metadata": {},
   "outputs": [
    {
     "data": {
      "text/plain": [
       "'There are 5 bags that weigh an average of 3.533325235252 pounds'"
      ]
     },
     "execution_count": 22,
     "metadata": {},
     "output_type": "execute_result"
    }
   ],
   "source": [
    "\"There are {} bags that weigh an average of {} pounds\".format(5, 3.533325235252)"
   ]
  },
  {
   "cell_type": "markdown",
   "metadata": {},
   "source": [
    "You can customize the format of the numeric type by including the appropriate options in the placholder. For a list of the most up-to-date options, refer to the [documentation](https://docs.python.org/3/library/string.html#formatstrings). In the example below, we restrict (with rounding) floats to two decimal places using the `:nf` syntax, where `n` is the number of decimal places to show."
   ]
  },
  {
   "cell_type": "code",
   "execution_count": 23,
   "metadata": {},
   "outputs": [
    {
     "data": {
      "text/plain": [
       "'There are 5 bags that weigh an average of 3.53 pounds'"
      ]
     },
     "execution_count": 23,
     "metadata": {},
     "output_type": "execute_result"
    }
   ],
   "source": [
    "\"There are {number} bags that weigh an average of {pounds:.2f} pounds\".format(number = 5, pounds = 3.533325235252)"
   ]
  },
  {
   "cell_type": "markdown",
   "metadata": {},
   "source": [
    "## Example Problems\n",
    "\n",
    "There are several example problems included below that you can use to test your understanding of the skills introduced in this module. A solutions notebook is provided at the following links:\n",
    "\n",
    "[![Binder](https://mybinder.org/badge_logo.svg)](https://mybinder.org/v2/gh/anthony-agbay/introduction-to-python-environment/main?urlpath=git-pull%3Frepo%3Dhttps%253A%252F%252Fgithub.com%252Fanthony-agbay%252Fintroduction-to-python%26urlpath%3Dlab%252Ftree%252Fintroduction-to-python%252Fmodules%252Fbasic-python-types-strings%252Fbasic-python-types-strings-solutions.ipynb%26branch%3Dmain) [![Colab](https://colab.research.google.com/assets/colab-badge.svg)](https://colab.research.google.com/github/anthony-agbay/introduction-to-python/blob/main/modules/basic-python-types-strings/basic-python-types-strings-solutions.ipynb)\n",
    "\n"
   ]
  },
  {
   "cell_type": "markdown",
   "metadata": {},
   "source": [
    "### Example Problem 1: Format A String to Describe Pi to 8 Decimal Points\n",
    "\n",
    "Using the basic outline of code below, use string formatting to recreate the following string to describe $\\pi$ to 8 decimal points:\n",
    "\n",
    "```python\n",
    "\"Pi to 8 decimal points is: 3.14159265\"\n",
    "```"
   ]
  },
  {
   "cell_type": "code",
   "execution_count": null,
   "metadata": {},
   "outputs": [],
   "source": [
    "# You can access the value of pi using `pi`\n",
    "from math import pi\n",
    "\n",
    "my_string = \"\"  # INSERT YOUR SOLUTION HERE\n",
    "\n",
    "## DO NOT EDIT THE CODE BELOW\n",
    "try:\n",
    "    assert my_string == \"Pi to 8 decimal points is: 3.14159265.\"\n",
    "    print(\"Your solution is correct.\")\n",
    "except:\n",
    "    print(\"Your answer is incorrect. Please try again.\")"
   ]
  },
  {
   "cell_type": "markdown",
   "metadata": {},
   "source": [
    "### Example Problem 2: Extract the Title of My Favorite Book From a Sentence\n",
    "\n",
    "Given the following sentence, extract out the title of the book, *The Paper Menagerie and Other Stories* without passing in the specific index locations of the start and end of the title.\n",
    "\n",
    "```python\n",
    "\"My favorite book is The Paper Menagerie and Other Stories written by Ken Liu.\"\n",
    "```\n",
    "\n",
    "You do not need to worry about generalizing the approach to other book titles. You may need multiple lines and variables to create fhe final solution."
   ]
  },
  {
   "cell_type": "code",
   "execution_count": null,
   "metadata": {},
   "outputs": [],
   "source": [
    "## PROVIDED VALUES AND VARIABLES ##\n",
    "original_sentence = \"My favorite book is The Paper Menagerie and Other Stories written by Ken Liu.\"\n",
    "\n",
    "## YOUR SOLUTION SPACE ##\n",
    "title_string = \"\" # Make sure title_string has your solution value\n",
    "\n",
    "\n",
    "## DO NOT EDIT THE CODE BELOW\n",
    "try:\n",
    "    assert title_string == \"The Paper Menagerie and Other Stories\"\n",
    "    print(\"Your solution is correct.\")\n",
    "except:\n",
    "    print(\"Your answer is incorrect. Please try again.\")"
   ]
  },
  {
   "cell_type": "markdown",
   "metadata": {},
   "source": [
    "## Closing\n",
    "\n",
    "In this module, you learned about the final basic type in Python, the string. Python includes many methods for working with strings that were not covered in this introductory module. However, you now have a strong foundation to build upon as you continue to work with Python.\n",
    "\n",
    "---\n",
    "\n",
    "## Release Notes\n",
    "\n",
    "- **2021-04-27**\n",
    "    - Initial posting\n",
    "    \n",
    "---\n",
    "\n",
    "**[Return to the Introduction to Python Homepage](https://walkintheforest.com/Content/Introduction+to+Python/%F0%9F%90%8D+Introduction+to+Python)**"
   ]
  }
 ],
 "metadata": {
  "kernelspec": {
   "display_name": "Python 3",
   "language": "python",
   "name": "python3"
  },
  "language_info": {
   "codemirror_mode": {
    "name": "ipython",
    "version": 3
   },
   "file_extension": ".py",
   "mimetype": "text/x-python",
   "name": "python",
   "nbconvert_exporter": "python",
   "pygments_lexer": "ipython3",
   "version": "3.8.5"
  }
 },
 "nbformat": 4,
 "nbformat_minor": 4
}

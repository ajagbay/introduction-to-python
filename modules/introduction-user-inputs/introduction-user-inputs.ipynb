{
 "cells": [
  {
   "cell_type": "markdown",
   "metadata": {},
   "source": [
    "# Introduction to Working with User Inputs\n",
    "\n",
    "**Last Updated:** 2021-04-16\n",
    "\n",
    "In the previous modules, we worked with scripts that required editing the source code (e.g., Jupyter notebooks) to modify the behavior. As you expand your toolset and tackle more complex projects, you may find yourself building scripts that need to respond to various user inputs. Because there is a wide variety of methods for working with user inputs, this module will be the first in a series covering this topic. In this module, we will introduce:\n",
    "\n",
    "1. How to prompt a user for information while a script is running\n",
    "2. How to use `sys.argv` to access command-line arguments\n",
    "\n",
    "## Table of Contents\n",
    "1. [Using This Notebook](#Using-This-Notebook)\n",
    "2. [Requesting User Input While a Script is Running](#Requesting-User-Input-While-a-Script-is-Running)\n",
    "3. [Simple Command-Line Argument Parsing Using `sys.argv`](#Simple-Command-Line-Argument-Parsing-Using-sys.argv)\n",
    "4. [Example Problems](#Example-Problems)\n",
    "5. [Closing](#Closing)\n",
    "6. [Release Notes](#Release-Notes)\n",
    "\n",
    "\n",
    "## Using This Notebook\n",
    "\n",
    "Unlike notebooks from previous modules, **you should not run all cells in this notebook**. This notebook relies on iterative updates to common script files, so working with cells out of order may result in unexpected outputs.\n",
    "\n",
    "This notebook uses Jupyter Notebook magic functions to help simulate command line inputs. In particular, two magic functions are essential to this module:\n",
    "\n",
    "- `%writefile`: Saves the content of the code cell to the specified filename\n",
    "- `%run `: Runs the following command via a virtual terminal\n",
    "    - To run any scripts below on your local terminal after downloading them, you would use `python3 my_script.py`\n"
   ]
  },
  {
   "cell_type": "markdown",
   "metadata": {},
   "source": [
    "## Requesting User Input While a Script is Running\n",
    "\n",
    "One common task that scripts may do is prompt a user for additional input after running (e.g., request a file path). To showcase this functionality, let's first introduce a simple script that will print out an introduction containing your name and the number of pets you have (`greetings.py`)."
   ]
  },
  {
   "cell_type": "code",
   "execution_count": 1,
   "metadata": {},
   "outputs": [
    {
     "name": "stdout",
     "output_type": "stream",
     "text": [
      "Writing greetings.py\n"
     ]
    }
   ],
   "source": [
    "%%writefile greetings.py\n",
    "#!usr/bin/bash python\n",
    "\n",
    "my_name = \"Anthony\"\n",
    "number_of_pets = 1\n",
    "\n",
    "print(\"My name is {} and I have {} pet(s).\".format(my_name, number_of_pets))"
   ]
  },
  {
   "cell_type": "code",
   "execution_count": 2,
   "metadata": {},
   "outputs": [
    {
     "name": "stdout",
     "output_type": "stream",
     "text": [
      "My name is Anthony and I have 1 pet(s).\n"
     ]
    }
   ],
   "source": [
    "%run greetings.py"
   ]
  },
  {
   "cell_type": "markdown",
   "metadata": {},
   "source": [
    "While this script does the job admirably, what would happen if someone else wanted to use the script to generate their introduction? Since we have hard-coded in our name and number of pets, they would have to go in and change the source code themselves. For a simple script like `greetings.py`, the change may not present an issue. However, you usually don't want others editing your code to personalize its behavior.\n",
    "\n",
    "Instead, we make use of the `input([prompt])` function (See [documentation](https://docs.python.org/3/library/functions.html#input)). This function will print out the `prompt` to the terminal and wait until the user inputs text. Once the user inputs text, it will return it as a *string* that can be stored like any other variable. Let's use this function to improve `greetings.py` to request the user's details instead of including them in the source."
   ]
  },
  {
   "cell_type": "code",
   "execution_count": 3,
   "metadata": {},
   "outputs": [
    {
     "name": "stdout",
     "output_type": "stream",
     "text": [
      "Overwriting greetings.py\n"
     ]
    }
   ],
   "source": [
    "%%writefile greetings.py\n",
    "#!usr/bin/bash python\n",
    "\n",
    "my_name = input(\"Name: \")\n",
    "number_of_pets = input(\"Number of Pets: \")\n",
    "\n",
    "print(\"My name is {} and I have {} pet(s).\".format(my_name, number_of_pets))"
   ]
  },
  {
   "cell_type": "code",
   "execution_count": 4,
   "metadata": {},
   "outputs": [
    {
     "name": "stdin",
     "output_type": "stream",
     "text": [
      "Name:  Anthony\n",
      "Number of Pets:  1\n"
     ]
    },
    {
     "name": "stdout",
     "output_type": "stream",
     "text": [
      "My name is Anthony and I have 1 pet(s).\n"
     ]
    }
   ],
   "source": [
    "%run greetings.py"
   ]
  },
  {
   "cell_type": "markdown",
   "metadata": {},
   "source": [
    "> **Style Suggestion**: Leave a trailing space at the end of the `input()` prompt to leave a space between the prompt and the user input on the command line.\n",
    "\n",
    "Next, let's create another script that will print out the sum of the two integers a user provides (`int_sum.py`)."
   ]
  },
  {
   "cell_type": "code",
   "execution_count": 5,
   "metadata": {},
   "outputs": [
    {
     "name": "stdout",
     "output_type": "stream",
     "text": [
      "Overwriting int_sum.py\n"
     ]
    }
   ],
   "source": [
    "%%writefile int_sum.py\n",
    "#!usr/bin/bash python\n",
    "\n",
    "num_one = input(\"First Number: \")\n",
    "num_two = input(\"Second Number: \")\n",
    "\n",
    "print(num_one + num_two)"
   ]
  },
  {
   "cell_type": "code",
   "execution_count": 6,
   "metadata": {},
   "outputs": [
    {
     "name": "stdin",
     "output_type": "stream",
     "text": [
      "First Number:  1\n",
      "Second Number:  2\n"
     ]
    },
    {
     "name": "stdout",
     "output_type": "stream",
     "text": [
      "12\n"
     ]
    }
   ],
   "source": [
    "%run int_sum.py"
   ]
  },
  {
   "cell_type": "markdown",
   "metadata": {},
   "source": [
    "When you run this script, you should immediately notice something wrong: the addition operator conducted *string addition* rather than integer addition. This error stems from the fact that `input()` **always returns a string**. In the example above, because we do not recast the inputs as integers, Python interprets them as a string. Let's modify the script so that we now explicitly recast the inputs appropriately. Try running the script with integer-like inputs!"
   ]
  },
  {
   "cell_type": "code",
   "execution_count": 7,
   "metadata": {},
   "outputs": [
    {
     "name": "stdout",
     "output_type": "stream",
     "text": [
      "Overwriting int_sum.py\n"
     ]
    }
   ],
   "source": [
    "%%writefile int_sum.py\n",
    "#!usr/bin/bash python\n",
    "\n",
    "num_one = int(input(\"First Number: \"))\n",
    "num_two = int(input(\"Second Number: \"))\n",
    "\n",
    "print(num_one + num_two)"
   ]
  },
  {
   "cell_type": "code",
   "execution_count": 8,
   "metadata": {},
   "outputs": [
    {
     "name": "stdin",
     "output_type": "stream",
     "text": [
      "First Number:  1\n",
      "Second Number:  2\n"
     ]
    },
    {
     "name": "stdout",
     "output_type": "stream",
     "text": [
      "3\n"
     ]
    }
   ],
   "source": [
    "%run int_sum.py"
   ]
  },
  {
   "cell_type": "markdown",
   "metadata": {},
   "source": [
    "While this iteration may appear to fix the input errors, there's actually one more that we need to address. Try rerunning the script and pass in an input that *cannot be converted to an integer* (e.g., \"3.2\" or \"1w\"). Using this type of input should raise an exception—the `int` casting fails because of an invalid input. While it can be tempting to assume that this type of error would not occur, it's quite common (e.g., a user types the wrong key) and, if left unaddressed, would completely crash the script. We will use a `try-except` pattern to safely catch the error caused by invalid inputs to address this issue in the new script iteration below:"
   ]
  },
  {
   "cell_type": "code",
   "execution_count": 9,
   "metadata": {},
   "outputs": [
    {
     "name": "stdout",
     "output_type": "stream",
     "text": [
      "Writing user_sum.py\n"
     ]
    }
   ],
   "source": [
    "%%writefile user_sum.py\n",
    "#!usr/bin/bash python\n",
    "\n",
    "def prompt_for_integer(prompt):\n",
    "    while True:\n",
    "        try:\n",
    "            return(int(input(prompt)))\n",
    "        except ValueError:\n",
    "            print(\"Please enter a valid integer.\")\n",
    "\n",
    "num_one = prompt_for_integer(\"First Number: \")\n",
    "num_two = prompt_for_integer(\"Second Number: \")\n",
    "\n",
    "print(num_one + num_two)"
   ]
  },
  {
   "cell_type": "code",
   "execution_count": 10,
   "metadata": {},
   "outputs": [
    {
     "name": "stdin",
     "output_type": "stream",
     "text": [
      "First Number:  3b\n"
     ]
    },
    {
     "name": "stdout",
     "output_type": "stream",
     "text": [
      "Please enter a valid integer.\n"
     ]
    },
    {
     "name": "stdin",
     "output_type": "stream",
     "text": [
      "First Number:  43.0\n"
     ]
    },
    {
     "name": "stdout",
     "output_type": "stream",
     "text": [
      "Please enter a valid integer.\n"
     ]
    },
    {
     "name": "stdin",
     "output_type": "stream",
     "text": [
      "First Number:  1\n",
      "Second Number:  3\n"
     ]
    },
    {
     "name": "stdout",
     "output_type": "stream",
     "text": [
      "4\n"
     ]
    }
   ],
   "source": [
    "%run user_sum.py"
   ]
  },
  {
   "cell_type": "markdown",
   "metadata": {},
   "source": [
    "While we haven't covered error handling yet, the basic idea of `try-except` loop is similar to that of an `if` loop. The code within the `try` block is executed first. If it would raise an exception, the code in the `except` block is executed (instead of crashing). In the script above, since we have wrapped the `try-except` pattern in a `while True` loop, the script will only break out of the loop if the user inputs a valid integer.\n",
    "\n",
    "With this validating function in place, we now have all of the basic functionality we need to get a user prompt while executing a script safely. In summary, we have implemented a way to:\n",
    "\n",
    "1. Prompt a user for a specific type of input\n",
    "2. Validate that the input conforms to the expected type\n",
    "3. Reprompt the user if the input is not valid."
   ]
  },
  {
   "cell_type": "markdown",
   "metadata": {},
   "source": [
    "## Simple Command-Line Argument Parsing Using `sys.argv`\n",
    "\n",
    "In the first section of this module, we introduced a method for accepting inputs *in the middle of executing a script*. However, many scripts accept inputs, or \"command-line arguments,\" when they are initially called. Passing these command-line arguments to a Python script follows the standard syntax for any command or language:\n",
    "\n",
    "```\n",
    "python3 my_script.py argument_1 argument_2\n",
    "```\n",
    "\n",
    "Once you pass these arguments to a script, there are many different ways we can access and use these inputs. Some methods provide a minimal amount of functionality, while others create entire frameworks for custom interfaces. The `sys` module is an essential Python module for interacting with the local operating system. For our purposes, we are only interested in one particular part of the `sys` module: the `sys.argv` list.  The `sys.argv` list contains all of the arguments a user passes when they call a Python script. Importantly, `sys.argv` is just a Python list, so all list methods can be applied! Let's use a simple script (`print_sys_argv.py`) to explore some of the details.\n",
    "\n",
    "**One thing to think about**: What type will the arguments be?"
   ]
  },
  {
   "cell_type": "code",
   "execution_count": 11,
   "metadata": {},
   "outputs": [
    {
     "name": "stdout",
     "output_type": "stream",
     "text": [
      "Writing print_sys_argv.py\n"
     ]
    }
   ],
   "source": [
    "%%writefile print_sys_argv.py\n",
    "#!usr/bin/bash python\n",
    "\n",
    "import sys\n",
    "\n",
    "\n",
    "# Print out the length of the list\n",
    "print(\"Length of sys.argv: {}\".format(len(sys.argv)))\n",
    "\n",
    "# Print out the entire list\n",
    "print(sys.argv)  \n",
    "\n",
    "# Loop over each argument and print\n",
    "for arg in sys.argv:\n",
    "    print(\"{}: {}\".format(arg, type(arg)))"
   ]
  },
  {
   "cell_type": "markdown",
   "metadata": {},
   "source": [
    "This script will print out the entire list, followed by each argument and its type. The cell below will call the script using three arguments: 1) a string-like argument, 2) an integer-like argument, and 3) a float-like argument."
   ]
  },
  {
   "cell_type": "code",
   "execution_count": 12,
   "metadata": {},
   "outputs": [
    {
     "name": "stdout",
     "output_type": "stream",
     "text": [
      "Length of sys.argv: 4\n",
      "['print_sys_argv.py', 'argument_1', '2', '3.0']\n",
      "print_sys_argv.py: <class 'str'>\n",
      "argument_1: <class 'str'>\n",
      "2: <class 'str'>\n",
      "3.0: <class 'str'>\n"
     ]
    }
   ],
   "source": [
    "%run print_sys_argv.py argument_1 2 3.0"
   ]
  },
  {
   "cell_type": "markdown",
   "metadata": {},
   "source": [
    "After running the cell above, take a look at the printed output. As expected, `sys.argv` is a Python list of all of the arguments. However, there it may seem like there is 1 extra argument: the name of the script. If you pay attention to the syntax of running a Python script, we are *actually* running `python3` and not the script itself, so `sys.argv` captures the script name as the \"first\" argument. Practically, this just means:\n",
    "\n",
    "1. We'll always know what script we initially ran (good for complicated cases)\n",
    "2. The arguments list (minus the script name) is effectively 1-indexed (the 2nd argument is `sys.argv[2]`)\n",
    "\n",
    "Next, notice that all of the arguments are initially parsed as *strings*, just like the `input()` method! As a result, you will still use similar typecasting and valdiation approaches introduced earlier when prompting the user for non-string inputs.\n",
    "\n",
    "Let's now rewrite our `greetings.py` script to utilize command line arguments instead (saved as `greetings_cli.py`)."
   ]
  },
  {
   "cell_type": "code",
   "execution_count": 13,
   "metadata": {},
   "outputs": [
    {
     "name": "stdout",
     "output_type": "stream",
     "text": [
      "Writing greetings_cli.py\n"
     ]
    }
   ],
   "source": [
    "%%writefile greetings_cli.py\n",
    "#!usr/bin/bash python\n",
    "\n",
    "import sys\n",
    "\n",
    "my_name = sys.argv[1]\n",
    "number_of_pets = sys.argv[2]\n",
    "\n",
    "print(\"My name is {} and I have {} pet(s).\".format(my_name, number_of_pets))"
   ]
  },
  {
   "cell_type": "code",
   "execution_count": 14,
   "metadata": {},
   "outputs": [
    {
     "name": "stdout",
     "output_type": "stream",
     "text": [
      "My name is Anthony and I have 1 pet(s).\n"
     ]
    }
   ],
   "source": [
    "%run greetings_cli.py Anthony 1"
   ]
  },
  {
   "cell_type": "markdown",
   "metadata": {},
   "source": [
    "We can now prompt the user to input all of the information *at the beginning* instead of stopping to request input multiple times throughout the script! However, there are important limits and downsides for directly using `sys.argv` for parsing user inputs. For example, nothing prevents a user from providng the inputs *in the wrong order or from passing any number of arguments*:"
   ]
  },
  {
   "cell_type": "code",
   "execution_count": 15,
   "metadata": {},
   "outputs": [
    {
     "name": "stdout",
     "output_type": "stream",
     "text": [
      "My name is 1 and I have Anthony pet(s).\n"
     ]
    }
   ],
   "source": [
    "%run greetings_cli.py 1 Anthony argument_3 3453 adsg"
   ]
  },
  {
   "cell_type": "markdown",
   "metadata": {},
   "source": [
    "In fact, *unless a user opens up and inspects the script directly, there is no way of figuring out what the expected arguments are*. For simple cases like the one above or in early development, this method may be all you need. For more complex or user-focused cases, we would need to start looking at more complex argument parsing modules, such as the `argparse` module."
   ]
  },
  {
   "cell_type": "markdown",
   "metadata": {},
   "source": [
    "## Example Problems\n",
    "\n",
    "To test your understanding, two example problems are provided below. A solutions notebook is available at the following links:\n",
    "\n",
    "[![Binder](https://mybinder.org/badge_logo.svg)](https://mybinder.org/v2/gh/anthony-agbay/introduction-to-python-environment/main?urlpath=git-pull%3Frepo%3Dhttps%253A%252F%252Fgithub.com%252Fanthony-agbay%252Fintroduction-to-python%26urlpath%3Dlab%252Ftree%252Fintroduction-to-python%252Fmodules%252Fintroduction-user-inputs%252Fintroduction-user-inputs-solutions.ipynb%26branch%3Dmain) [![Colab](https://colab.research.google.com/assets/colab-badge.svg)](https://colab.research.google.com/github/anthony-agbay/introduction-to-python/blob/main/modules/introduction-user-inputs/introduction-user-inputs-solutions.ipynb)"
   ]
  },
  {
   "cell_type": "markdown",
   "metadata": {},
   "source": [
    "### Example Problem 1: Calculate the Area of a Circle for a Specified Radius\n",
    "\n",
    "A user would like to have a script that will calculate the area of a circle when they input a given radius. The cell below contains the basic framework for how this script can be implemented.\n",
    "\n",
    "#### Goal\n",
    "Implement `calculate_area()` and fulfill the following requirements:\n",
    "\n",
    "1. Validate that the input is a valid floating point number without crashing the script.\n",
    "2. Reprompt the user for a new number if the previous input is not valid.\n",
    "3. `calculate_area()` should return the area of the circle as a float.\n",
    "\n",
    "#### Additional Notes\n",
    "- The math constant, `pi`, has been provided as an import.\n",
    "- Additional helper functions may or may not be needed."
   ]
  },
  {
   "cell_type": "code",
   "execution_count": null,
   "metadata": {},
   "outputs": [],
   "source": [
    "%%writefile example_circle_area.py\n",
    "#!usr/bin/bash python\n",
    "\n",
    "from math import pi\n",
    "\n",
    "def calculate_area():\n",
    "    # Your implementation goes here // You can delete this line\n",
    "    \n",
    "##### DO NOT EDIT THE CODE BELOW THIS LINE #####\n",
    "print(\"Area: {}\".format(calculate_area()))"
   ]
  },
  {
   "cell_type": "code",
   "execution_count": null,
   "metadata": {},
   "outputs": [],
   "source": [
    "%run example_circle_area.py"
   ]
  },
  {
   "cell_type": "markdown",
   "metadata": {},
   "source": [
    "#### Solution Validation\n",
    "\n",
    "To validate your solution, **pass in \"1\" as the radius input**. The output should match the text below.\n",
    "\n",
    "<details>\n",
    "    <summary> Solution Output </summary>\n",
    "<code>Radius: 1\n",
    "Area: 3.141592653589793\n",
    "</code>\n",
    "    \n",
    "</details>"
   ]
  },
  {
   "cell_type": "markdown",
   "metadata": {},
   "source": [
    "### Example Problem 2: Use Command-Line Arguments to Describe A Favorite Book\n",
    "\n",
    "A user would like to have a script that will generate a sentence that prints out a description of their favorite book using 1) the title of the book and, 2) the author of the book. The sentence should look like the following:\n",
    "\n",
    "> My favorite book is Dune by Frank Herbert!\n",
    "\n",
    "#### Goal\n",
    "Implement `generate_description()` below using command-line arguments and fulfill the following requirements:\n",
    "\n",
    "1. The printed output (other than the book title and author name) should match the example string above.\n",
    "2. You do not need to worry about cases where a user passes an incorrect number of arguments\n",
    "\n",
    "#### Additional Notes\n",
    "- To pass multi-word strings as a command-line argument, you must wrap the string in quotes. (E.g., `\"Frank Herbert\"`)\n",
    "- Additional helper functions may or may not be needed.\n"
   ]
  },
  {
   "cell_type": "code",
   "execution_count": null,
   "metadata": {},
   "outputs": [],
   "source": [
    "%%writefile example_favorite_book.py\n",
    "#!usr/bin/bash python\n",
    "\n",
    "def generate_description():\n",
    "    # Your implementation goes here // You can delete this line\n",
    "\n",
    "\n",
    "##### DO NOT EDIT THE CODE BELOW THIS LINE #####\n",
    "print(generate_description())"
   ]
  },
  {
   "cell_type": "code",
   "execution_count": null,
   "metadata": {},
   "outputs": [],
   "source": [
    "%run example_favorite_book.py <REPLACE-WITH-YOUR-ARGUMENTS>"
   ]
  },
  {
   "cell_type": "markdown",
   "metadata": {},
   "source": [
    "#### Solution Validation\n",
    "\n",
    "To validate your solution, you should be able match the outputs for the following book/author pairs:\n",
    "\n",
    "1. Foundation by Isaac Asimov\n",
    "2. Lord of the Rings by J.R.R. Tolkien\n",
    "\n",
    "<details>\n",
    "    <summary> Solution Output </summary>\n",
    "    \n",
    "<code>1. My favorite book is Foundation by Isaac Asimov!\n",
    "2. My favorite book is Lord of the Rings by J.R.R. Tolkien!\n",
    "</code>\n",
    "    \n",
    "</details>"
   ]
  },
  {
   "cell_type": "markdown",
   "metadata": {},
   "source": [
    "## Closing\n",
    "\n",
    "This module introduced two methods for working with user input: requesting user input while running a script using the `input()` function and parsing command-line arguments using the `sys.argv` list. As mentioned throughout the module, the are additional methods for creating complex input parsing systems. However, the methods introduced in this module can serve almost all introductory needs.\n",
    "\n",
    "In the next module, we introduce the `argparse` module, the built-in command line argument parsing module that is the next step up from `sys.argv`.\n",
    "\n",
    "---\n",
    "\n",
    "## Release Notes\n",
    "\n",
    "- **2021-04-16**\n",
    "    - Added example problems and associated solutions\n",
    "- **2021-04-15**\n",
    "    - Initial notebook release\n",
    "    \n",
    "---\n",
    "\n",
    "**[Return to the Introduction to Python Homepage](https://walkintheforest.com/Content/Introduction+to+Python/%F0%9F%90%8D+Introduction+to+Python)**"
   ]
  }
 ],
 "metadata": {
  "kernelspec": {
   "display_name": "Python 3",
   "language": "python",
   "name": "python3"
  },
  "language_info": {
   "codemirror_mode": {
    "name": "ipython",
    "version": 3
   },
   "file_extension": ".py",
   "mimetype": "text/x-python",
   "name": "python",
   "nbconvert_exporter": "python",
   "pygments_lexer": "ipython3",
   "version": "3.8.5"
  }
 },
 "nbformat": 4,
 "nbformat_minor": 4
}

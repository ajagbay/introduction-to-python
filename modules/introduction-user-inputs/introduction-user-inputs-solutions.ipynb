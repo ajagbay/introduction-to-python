{
 "cells": [
  {
   "cell_type": "markdown",
   "metadata": {},
   "source": [
    "# Example Problem Solutions for Introduction to Working with User Inputs\n",
    "\n",
    "This notebook contains solutions to the example problems from [](). These solutions only represent one of the many potential solutions to the example problems.\n",
    "\n",
    "## Table of Contents\n",
    "\n",
    "1. [Example Problem 1](#Example-1:-Calculate-the-Area-of-a-Circle-for-a-Specified-Radius)\n",
    "2. [Example Problem 2](#Example-Problem-2:-Use-Command-Line-Arguments-to-Describe-A-Favorite-Book)"
   ]
  },
  {
   "cell_type": "markdown",
   "metadata": {},
   "source": [
    "## Example Problem 1: Calculate the Area of a Circle for a Specified Radius"
   ]
  },
  {
   "cell_type": "code",
   "execution_count": 1,
   "metadata": {},
   "outputs": [
    {
     "name": "stdout",
     "output_type": "stream",
     "text": [
      "Overwriting example_circle_area_solution.py\n"
     ]
    }
   ],
   "source": [
    "%%writefile example_circle_area_solution.py\n",
    "#!usr/bin/bash python\n",
    "\n",
    "from math import pi\n",
    "\n",
    "def prompt_for_float(prompt):\n",
    "    while True:\n",
    "        try:\n",
    "            return(float(input(prompt)))\n",
    "        except:\n",
    "            print(\"Please enter a valid number.\")\n",
    "\n",
    "def calculate_area():\n",
    "    radius = prompt_for_float(\"Radius: \")\n",
    "    return(pi*radius**2)\n",
    "\n",
    "##### DO NOT EDIT THE CODE BELOW THIS LINE #####\n",
    "print(\"Area: {}\".format(calculate_area()))"
   ]
  },
  {
   "cell_type": "code",
   "execution_count": 2,
   "metadata": {},
   "outputs": [
    {
     "name": "stdin",
     "output_type": "stream",
     "text": [
      "Radius:  1\n"
     ]
    },
    {
     "name": "stdout",
     "output_type": "stream",
     "text": [
      "Area: 3.141592653589793\n"
     ]
    }
   ],
   "source": [
    "%run example_circle_area_solution.py"
   ]
  },
  {
   "cell_type": "markdown",
   "metadata": {},
   "source": [
    "## Example Problem 2: Use Command-Line Arguments to Describe A Favorite Book"
   ]
  },
  {
   "cell_type": "code",
   "execution_count": 3,
   "metadata": {},
   "outputs": [
    {
     "name": "stdout",
     "output_type": "stream",
     "text": [
      "Overwriting example_favorite_book_solution.py\n"
     ]
    }
   ],
   "source": [
    "%%writefile example_favorite_book_solution.py\n",
    "#!usr/bin/bash python\n",
    "\n",
    "import sys\n",
    "\n",
    "def generate_description():\n",
    "    book = sys.argv[1]\n",
    "    author = sys.argv[2]\n",
    "    return(\"My favorite book is {} by {}!\".format(book, author))\n",
    "\n",
    "\n",
    "##### DO NOT EDIT THE CODE BELOW THIS LINE #####\n",
    "print(generate_description())"
   ]
  },
  {
   "cell_type": "code",
   "execution_count": 4,
   "metadata": {},
   "outputs": [
    {
     "name": "stdout",
     "output_type": "stream",
     "text": [
      "My favorite book is Dune by Frank Herbert!\n"
     ]
    }
   ],
   "source": [
    "%run example_favorite_book.py Dune \"Frank Herbert\""
   ]
  }
 ],
 "metadata": {
  "kernelspec": {
   "display_name": "Python 3",
   "language": "python",
   "name": "python3"
  },
  "language_info": {
   "codemirror_mode": {
    "name": "ipython",
    "version": 3
   },
   "file_extension": ".py",
   "mimetype": "text/x-python",
   "name": "python",
   "nbconvert_exporter": "python",
   "pygments_lexer": "ipython3",
   "version": "3.8.5"
  }
 },
 "nbformat": 4,
 "nbformat_minor": 4
}

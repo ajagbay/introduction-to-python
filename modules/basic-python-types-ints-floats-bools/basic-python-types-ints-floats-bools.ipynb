{
 "cells": [
  {
   "cell_type": "markdown",
   "metadata": {},
   "source": [
    "# Basic Python Types: Integers, Floats, and Booleans\n",
    "\n",
    "In this module, you will be introduced to three of the four basic Python types: the *integer (int)*, the *float (float)*, and the *Boolean (bool)*. The integer and the float represent almost any numeric data and Booleans represent binary states. While you may encounter and work with additional types, understanding how to work with these three basic types will give you a strong foundation for handling numeric data in Python."
   ]
  },
  {
   "cell_type": "markdown",
   "metadata": {},
   "source": [
    "## Table of Contents\n",
    "\n",
    "1. [Using This Notebook](#Using-This-Notebook)\n",
    "2. [Intro to Variables](#Intro-to-Variables)\n",
    "3. [Integers (int) and Floats (float)](#Integers-(int)-and-Floats-(float))\n",
    "    - [Numeric Operators Summary Table](#Numeric-Operators-Summary-Table)\n",
    "    - [Numeric Operators Example Problems](#Numeric-Operators-Example-Problems)\n",
    "4. [Type Casting](#Type-Casting)\n",
    "5. [Booleans (bool)](#Booleans-(bool))"
   ]
  },
  {
   "cell_type": "markdown",
   "metadata": {},
   "source": [
    "## Using This Notebook"
   ]
  },
  {
   "cell_type": "markdown",
   "metadata": {},
   "source": [
    "## Intro to Variables\n",
    "\n",
    "\n",
    "Before we begin discussing the basic types, let's quickly introduce *variables*. Variables are an essential part of any programming language: they are **how we store values for later use**. You declare a variable and assign it a value using the following syntax:\n",
    "\n",
    "```python\n",
    "variable_name = value\n",
    "```\n",
    "\n",
    "Once you declare a variable, you can access its value by using the variable name instead of the original value. As the name suggests, the value that a variable stores *doesn't have to be constant*—it can be changed at any time, allowing you to sync changes in common values *without having to change all of the code*. You will have the opportunity to see how variables are used and practice using them yourself throughout this guide.\n",
    "\n",
    "While you can use variables throughout your code, *they must be defined/initialized before they or used* or they will cause your code to crash. For Jupyter notebooks, this means that the cell containing the definition must be executed before the variable is accessible by any other cell."
   ]
  },
  {
   "cell_type": "code",
   "execution_count": 1,
   "metadata": {},
   "outputs": [
    {
     "ename": "NameError",
     "evalue": "name 'my_variable' is not defined",
     "output_type": "error",
     "traceback": [
      "\u001b[0;31m---------------------------------------------------------------------------\u001b[0m",
      "\u001b[0;31mNameError\u001b[0m                                 Traceback (most recent call last)",
      "\u001b[0;32m<ipython-input-1-6e47edf4d332>\u001b[0m in \u001b[0;36m<module>\u001b[0;34m\u001b[0m\n\u001b[1;32m      1\u001b[0m \u001b[0;31m# This cell crashes at first because my_variable is initalized after!\u001b[0m\u001b[0;34m\u001b[0m\u001b[0;34m\u001b[0m\u001b[0;34m\u001b[0m\u001b[0m\n\u001b[0;32m----> 2\u001b[0;31m \u001b[0mprint\u001b[0m\u001b[0;34m(\u001b[0m\u001b[0mmy_variable\u001b[0m\u001b[0;34m)\u001b[0m\u001b[0;34m\u001b[0m\u001b[0;34m\u001b[0m\u001b[0m\n\u001b[0m",
      "\u001b[0;31mNameError\u001b[0m: name 'my_variable' is not defined"
     ]
    }
   ],
   "source": [
    "# This cell crashes at first because my_variable is defined later after!\n",
    "print(my_variable)"
   ]
  },
  {
   "cell_type": "code",
   "execution_count": 2,
   "metadata": {},
   "outputs": [],
   "source": [
    "# Define my_variable\n",
    "my_variable = 5"
   ]
  },
  {
   "cell_type": "code",
   "execution_count": 3,
   "metadata": {},
   "outputs": [
    {
     "name": "stdout",
     "output_type": "stream",
     "text": [
      "5\n"
     ]
    }
   ],
   "source": [
    "# Now my_variable is available\n",
    "print(my_variable)"
   ]
  },
  {
   "cell_type": "markdown",
   "metadata": {},
   "source": [
    "## Integers (int) and Floats (float)\n",
    "\n",
    "The first two types that we will cover are *integers* (or \"ints\") and *floating point numbers* (or \"floats\"). These two types are considered the numeric types in Python because they cover *almost all* real numbers (more on this later). Ints, as their name implies, encompass any whole numbers while floats encompass (almost) number that can be represented using decimal points (think fractions, etc.). Whenever we use numbers in Python for operations, the computer will infer the appropriate type.\n",
    "\n",
    "> Throughout this notebook, we will be using the Python function `type()` to identify what type a piece of data is"
   ]
  },
  {
   "cell_type": "code",
   "execution_count": 9,
   "metadata": {},
   "outputs": [
    {
     "name": "stdout",
     "output_type": "stream",
     "text": [
      "1: <class 'int'>\n",
      "1.0 <class 'float'>\n"
     ]
    }
   ],
   "source": [
    "# 1 will be interpreted as a integer\n",
    "print(\"1: {}\".format(type(1)))  # You will be introduced to how this line works later\n",
    "\n",
    "# 1.0 will be interpreted as a float\n",
    "print(\"1.0 {}\".format(type(1.0)))"
   ]
  },
  {
   "cell_type": "markdown",
   "metadata": {},
   "source": [
    "Even though we have different types for whole numbers and fractional numbers, they can still be compared like normal."
   ]
  },
  {
   "cell_type": "code",
   "execution_count": 11,
   "metadata": {},
   "outputs": [
    {
     "data": {
      "text/plain": [
       "True"
      ]
     },
     "execution_count": 11,
     "metadata": {},
     "output_type": "execute_result"
    }
   ],
   "source": [
    "\"\"\"\n",
    "== is a comparison operator that we will introduced later\n",
    "If the value on the left-hand side is equivalent to the\n",
    "value on the right hand side, then it returns \"True\".\n",
    "If they are different, then it returns \"False\"\n",
    "\"\"\"\n",
    "1 == 1.0"
   ]
  },
  {
   "cell_type": "markdown",
   "metadata": {},
   "source": [
    "While floats may appear to cover every potential number with a decimal point, there are actually small gaps because computers have a finite amount of memory. As a result, small rounding errors and/or approximations can be introduced. For example, let's look at a simple equivalence comparison:"
   ]
  },
  {
   "cell_type": "code",
   "execution_count": 28,
   "metadata": {},
   "outputs": [
    {
     "data": {
      "text/plain": [
       "False"
      ]
     },
     "execution_count": 28,
     "metadata": {},
     "output_type": "execute_result"
    }
   ],
   "source": [
    "# Simple equivalence comparison that should be \"True\"\n",
    "10.1 == 4.9 + 5.2"
   ]
  },
  {
   "cell_type": "markdown",
   "metadata": {},
   "source": [
    "The expression from the cell above *should* evaluate to \"True\", but this represents an example of the rounding errors introduced by the limitations of computer memory. Even if the value *can be represented* the operation may contain rounding errors. As a concrete example, let's show the *actual* value of the expression above:"
   ]
  },
  {
   "cell_type": "code",
   "execution_count": 27,
   "metadata": {},
   "outputs": [
    {
     "data": {
      "text/plain": [
       "10.100000000000001"
      ]
     },
     "execution_count": 27,
     "metadata": {},
     "output_type": "execute_result"
    }
   ],
   "source": [
    "# This is the actual computed value\n",
    "4.9 + 5.2"
   ]
  },
  {
   "cell_type": "markdown",
   "metadata": {},
   "source": [
    "While these errors may seem like dealbreakers, in practice, they don't matter *too* much. There are many ways we can get around the limited representation when we complete calculations and comparisons. Even for equivalence comparisons, there are functions that can account for a certain level of imprecision."
   ]
  },
  {
   "cell_type": "markdown",
   "metadata": {},
   "source": [
    "### Operators for Ints and Floats\n",
    "\n",
    "Storing numeric data is useful, but completing operations and calculations using those data is a fundemental part of any programming language. Python comes with the standard set of numeric operators that can be used for both ints and floats."
   ]
  },
  {
   "cell_type": "markdown",
   "metadata": {},
   "source": [
    "#### Addition\n",
    "\n",
    "The addition (`+`) operator adds numbers together using the syntax `a + b`."
   ]
  },
  {
   "cell_type": "code",
   "execution_count": 40,
   "metadata": {},
   "outputs": [
    {
     "name": "stdout",
     "output_type": "stream",
     "text": [
      "3\n",
      "3.3000000000000003\n",
      "3.0\n"
     ]
    }
   ],
   "source": [
    "# Integer Addition => Int\n",
    "int_add = 1 + 2 \n",
    "print(int_add)\n",
    "\n",
    "# Float Addition => Float\n",
    "float_add = 1.1 + 2.2\n",
    "print(float_add)\n",
    "\n",
    "# Mixed Addition => Float\n",
    "mixed_add = 1.0 + 2\n",
    "print(mixed_add)"
   ]
  },
  {
   "cell_type": "markdown",
   "metadata": {},
   "source": [
    "#### Subtraction\n",
    "\n",
    "The subtraction (`-`) operator subtracts two numbers using the syntax `a - b`."
   ]
  },
  {
   "cell_type": "code",
   "execution_count": 37,
   "metadata": {},
   "outputs": [
    {
     "name": "stdout",
     "output_type": "stream",
     "text": [
      "1\n",
      "1.2999999999999998\n",
      "1.5\n"
     ]
    }
   ],
   "source": [
    "# Integer Subtraction => Int\n",
    "int_minus = 5 - 4\n",
    "print(int_minus)\n",
    "\n",
    "# Float Subtraction => Float\n",
    "float_minus = 5.5 - 4.2\n",
    "print(float_minus)\n",
    "\n",
    "# Mixed Subtraction => Float\n",
    "mixed_minus = 5.5 - 4\n",
    "print(mixed_minus)"
   ]
  },
  {
   "cell_type": "markdown",
   "metadata": {},
   "source": [
    "### Multiplication\n",
    "\n",
    "The multiplication (`*`) operator multiplies two numbers together using the syntax `a * b`."
   ]
  },
  {
   "cell_type": "code",
   "execution_count": 38,
   "metadata": {},
   "outputs": [
    {
     "name": "stdout",
     "output_type": "stream",
     "text": [
      "4\n",
      "2.4200000000000004\n",
      "5.5\n"
     ]
    }
   ],
   "source": [
    "# Integer Subtraction => Int\n",
    "int_mult = 2 * 2\n",
    "print(int_mult)\n",
    "\n",
    "# Float Subtraction => Float\n",
    "float_mult = 1.1 * 2.2\n",
    "print(float_mult)\n",
    "\n",
    "# Mixed Subtraction => Float\n",
    "mixed_mult = 1 * 5.5\n",
    "print(mixed_mult)"
   ]
  },
  {
   "cell_type": "markdown",
   "metadata": {},
   "source": [
    "### Division\n",
    "\n",
    "The division (`/`) operator divides two numbers ($a \\div b$) using the syntax `a / b`. Division behaves differently from the previous operators because it *always results in a float*, regardless of the type of the inputs."
   ]
  },
  {
   "cell_type": "code",
   "execution_count": 44,
   "metadata": {},
   "outputs": [
    {
     "name": "stdout",
     "output_type": "stream",
     "text": [
      "1.0\n",
      "2.0\n",
      "25.0\n"
     ]
    }
   ],
   "source": [
    "# Integer Division => Float\n",
    "int_div = 2 / 2\n",
    "print(int_div)\n",
    "\n",
    "# Float Division => Float\n",
    "float_div = 4.4 / 2.2\n",
    "print(float_div)\n",
    "\n",
    "# Mixed Division => Float\n",
    "mixed_div = 10 * 2.5\n",
    "print(mixed_div)"
   ]
  },
  {
   "cell_type": "markdown",
   "metadata": {},
   "source": [
    "### Floor Division\n",
    "\n",
    "The floor division (`//`) operator is a variant of division that automatically *rounds down the value to the nearest integer* using the syntax `a // b`. Unlike regular division, floor division between two integers results in a new integer."
   ]
  },
  {
   "cell_type": "code",
   "execution_count": 46,
   "metadata": {},
   "outputs": [
    {
     "name": "stdout",
     "output_type": "stream",
     "text": [
      "1\n",
      "2.0\n",
      "4.0\n"
     ]
    }
   ],
   "source": [
    "# Integer Floor Division => Int\n",
    "int_floor = 2 // 2\n",
    "print(int_floor)\n",
    "\n",
    "# Float Floor Division => Float\n",
    "float_floor = 4.4 // 2.2\n",
    "print(float_floor)\n",
    "\n",
    "# Mixed Floor Division => Float\n",
    "mixed_floor = 10 // 2.5\n",
    "print(mixed_floor)"
   ]
  },
  {
   "cell_type": "markdown",
   "metadata": {},
   "source": [
    "### Exponentials\n",
    "\n",
    "The exponential (`**`) operator calculates an exponential ($a^b$) using the syntax `a ** b`."
   ]
  },
  {
   "cell_type": "code",
   "execution_count": 7,
   "metadata": {},
   "outputs": [
    {
     "name": "stdout",
     "output_type": "stream",
     "text": [
      "4\n",
      "4.0\n",
      "4.0\n"
     ]
    }
   ],
   "source": [
    "# Integer Exponential => Int\n",
    "int_floor = 2 ** 2\n",
    "print(int_floor)\n",
    "\n",
    "# Float Exponential => Float\n",
    "float_floor = 2.0 ** 2.0\n",
    "print(float_floor)\n",
    "\n",
    "# Mixed Exponential => Float\n",
    "mixed_floor = 2.0 ** 2\n",
    "print(mixed_floor)"
   ]
  },
  {
   "cell_type": "markdown",
   "metadata": {},
   "source": [
    "### Modulo\n",
    "\n",
    "The modulo (`%`) operator returns the remainder of a division operation ($a \\bmod b$) between two numbers using the syntax `a % b`."
   ]
  },
  {
   "cell_type": "code",
   "execution_count": 13,
   "metadata": {},
   "outputs": [
    {
     "name": "stdout",
     "output_type": "stream",
     "text": [
      "1\n",
      "0.20000000000000018\n",
      "0.40000000000000036\n"
     ]
    }
   ],
   "source": [
    "# Integer Modulo => Int\n",
    "int_floor = 5 % 2\n",
    "print(int_floor)\n",
    "\n",
    "# Float Modulo => Float\n",
    "float_floor = 3.0 % 1.4\n",
    "print(float_floor)\n",
    "\n",
    "# Mixed Modulo => Float\n",
    "mixed_floor = 5 % 2.3\n",
    "print(mixed_floor)"
   ]
  },
  {
   "cell_type": "markdown",
   "metadata": {},
   "source": [
    "### Numeric Operators Order of Operations\n",
    "\n",
    "Multiple operations can be included on a single line of code. If there are multiple operators, then the operators will be applied using standard mathematical order of operations:\n",
    "\n",
    "1. `**`\n",
    "2. `*`, `/`, `//`, `%`\n",
    "3. `+`, `-`\n",
    "\n",
    "Additionally, the explicit ordering can be defined using parentheses."
   ]
  },
  {
   "cell_type": "markdown",
   "metadata": {},
   "source": [
    "### Numeric Operators Summary Table\n",
    "These are the seven basic numeric operators for ints and floats. For an easy reference, the table below provides a summary of the name, mathematical operation, and the syntax.\n",
    "\n",
    "<caption><b>Table 1:</b> Summary table for numeric operators and the associated mathematical expression.</caption>\n",
    "\n",
    "|      Name      | Operator Syntax |   Mathematical Operation   |\n",
    "|:--------------:|:---------------:|:--------------------------:|\n",
    "|    Addition    |     `a + b`     |          $a + b$           |\n",
    "|  Subtraction   |     `a - b`     |          $a - b$           |\n",
    "| Multiplication |     `a * b`     |        $a \\times b$        |\n",
    "|    Division    |     `a / b`     |         $a \\div b$         |\n",
    "| Floor Division |    `a // b`     | $\\lfloor a \\div b \\rfloor$ | \n",
    "|  Exponential   |    `a ** b`     |           $a^b$            |\n",
    "|     Modulo     |     `a % b`     |        $a \\bmod b$         |"
   ]
  },
  {
   "cell_type": "markdown",
   "metadata": {},
   "source": [
    "### Numeric Operators Example Problems\n",
    "\n",
    "There are several examples below to test your understanding of numeric operators and Python's order of operations. To use this section, please follow the instructions for each cell below."
   ]
  },
  {
   "cell_type": "markdown",
   "metadata": {},
   "source": [
    "#### Answer Confirmation Function\n",
    "\n",
    "Please run the cell below to prepare the function that will evaluate your answer compared to the problem solution. Do not worry if you do not understand how the code in this cell works."
   ]
  },
  {
   "cell_type": "code",
   "execution_count": 43,
   "metadata": {},
   "outputs": [],
   "source": [
    "### Numeric Operator Examples Solutions Checking Function\n",
    "### DO NOT MODIFY THE CODE BELOW\n",
    "\n",
    "import numpy as np\n",
    "\n",
    "def numericEqualsTest(problem_val, answer, problem_num):\n",
    "    \"\"\" Prints out correct/incorrect for a problem\n",
    "    \n",
    "    Inputs:\n",
    "        problem_val {int/float}: Solution value\n",
    "        answer {int/float}: User's answer\n",
    "        problem_Num {int}: Problem number for reporting\n",
    "    \n",
    "    Outputs:\n",
    "        Prints the problem number and the status of the answer\n",
    "    \"\"\"\n",
    "    \n",
    "    try:\n",
    "        np.testing.assert_almost_equal(problem_val, answer)\n",
    "        print(\"Problem {}: Correct\".format(problem_num))\n",
    "    except:\n",
    "        print(\"Problem {}: Incorrect\".format(problem_num))"
   ]
  },
  {
   "cell_type": "markdown",
   "metadata": {},
   "source": [
    "#### Example Problems\n",
    "\n",
    "Replace the `## INSERT YOUR ANSWER HERE ##` placeholders in the lines below with the value that you expect the experssion from the line above evalutes to."
   ]
  },
  {
   "cell_type": "code",
   "execution_count": 44,
   "metadata": {},
   "outputs": [
    {
     "ename": "SyntaxError",
     "evalue": "invalid syntax (<ipython-input-44-76a4d9b9c5a0>, line 5)",
     "output_type": "error",
     "traceback": [
      "\u001b[0;36m  File \u001b[0;32m\"<ipython-input-44-76a4d9b9c5a0>\"\u001b[0;36m, line \u001b[0;32m5\u001b[0m\n\u001b[0;31m    numeric_ex1_answer = ## INSERT YOUR ANSWER HERE ##\u001b[0m\n\u001b[0m                         ^\u001b[0m\n\u001b[0;31mSyntaxError\u001b[0m\u001b[0;31m:\u001b[0m invalid syntax\n"
     ]
    }
   ],
   "source": [
    "### Example Problems\n",
    "\n",
    "# Example Problem 1\n",
    "numeric_ex1 = (5 + 4) - (3 // 2)\n",
    "numeric_ex1_answer = ## INSERT YOUR ANSWER HERE ##\n",
    "\n",
    "# Example Problem 2\n",
    "numeric_ex2 = ((5.0 + 3) % 4 + 3) // 2 - 0.8\n",
    "numeric_ex2_answer = ## INSERT YOUR ANSWER HERE ##\n",
    "\n",
    "# Example Problem 3\n",
    "numeric_ex3 = (3 % (2 + 1)) * ((5 ** 2) % (5 + 3 - (8 // 5)))\n",
    "numeric_ex3_answer = ## INSERT YOUR ANSWER HERE ##"
   ]
  },
  {
   "cell_type": "markdown",
   "metadata": {},
   "source": [
    "#### Answer Comparisons\n",
    "Run this cell below to print out whether your answers are correct or incorrect. If any answer is incorrect, you can replace your answer in the cell above, rerun the \"Example Problems\" cell, and compare your answers again."
   ]
  },
  {
   "cell_type": "code",
   "execution_count": 42,
   "metadata": {},
   "outputs": [
    {
     "name": "stdout",
     "output_type": "stream",
     "text": [
      "Problem 1: Incorrect\n",
      "Problem 2: Correct\n",
      "Problem 2: Correct\n"
     ]
    }
   ],
   "source": [
    "numericEqualsTest(numeric_ex1, numeric_ex1_answer, 1)\n",
    "numericEqualsTest(numeric_ex2, numeric_ex2_answer, 2)\n",
    "numericEqualsTest(numeric_ex3, numeric_ex3_answer, 2)"
   ]
  },
  {
   "cell_type": "markdown",
   "metadata": {},
   "source": [
    "#### Solutions\n",
    "\n",
    "Run this cell below to print out the solutions to the example problems."
   ]
  },
  {
   "cell_type": "code",
   "execution_count": 45,
   "metadata": {},
   "outputs": [
    {
     "name": "stdout",
     "output_type": "stream",
     "text": [
      "Problem 1: 8\n",
      "Problem 2: 0.19999999999999996\n"
     ]
    }
   ],
   "source": [
    "print(\"Problem {}: {}\".format(1, numeric_ex1))\n",
    "print(\"Problem {}: {}\".format(2, numeric_ex2))"
   ]
  },
  {
   "cell_type": "markdown",
   "metadata": {},
   "source": [
    "## Type Casting\n",
    "\n",
    "When working with numeric data (and other data types that are introduced throughout this guide), you may find yourself *wanting to change the type of the variable*. The process of converting a value from one data type to another is known as *type casting*. In Python, you can type cast a value or variable by wrapping it with the new type that you want:"
   ]
  },
  {
   "cell_type": "code",
   "execution_count": 13,
   "metadata": {},
   "outputs": [
    {
     "name": "stdout",
     "output_type": "stream",
     "text": [
      "4\n"
     ]
    }
   ],
   "source": [
    "# Here's a float\n",
    "my_float = 4.0\n",
    "\n",
    "# Let's cast it as an  int and print it out\n",
    "print(int(my_float))"
   ]
  },
  {
   "cell_type": "markdown",
   "metadata": {},
   "source": [
    "However, when you are working with numeric data types like and int or a float, type casting may cause a loss of precision or information if you are not careful. For example, casting a float as an int will simply remove all of the decimal places."
   ]
  },
  {
   "cell_type": "code",
   "execution_count": 17,
   "metadata": {},
   "outputs": [
    {
     "name": "stdout",
     "output_type": "stream",
     "text": [
      "3\n"
     ]
    }
   ],
   "source": [
    "# Here's pi to 8 digits\n",
    "pi = 3.14159265\n",
    "\n",
    "# You lose all of the digits when casting to an int\n",
    "print(int(pi))"
   ]
  },
  {
   "cell_type": "markdown",
   "metadata": {},
   "source": [
    "Type casting plays important roles for allowing compatability for more complex projects and functions. While these applications are shown here in this quick introduction, you will see it in action in other modules in this guide."
   ]
  },
  {
   "cell_type": "markdown",
   "metadata": {},
   "source": [
    "## Booleans (bool)\n",
    "\n",
    "Booleans (bools) are a special data type that take on only *two* different values: `True` and `False` (**Note:** the capitalization is important). Despite being limited to two values, Booleans are used throughout Python for a variety of functions, including controling what sections of code are run, indicating the success or failure of function, or describing the result of a comparison. Let's quickly look at how we can create Boolean values:"
   ]
  },
  {
   "cell_type": "code",
   "execution_count": 9,
   "metadata": {},
   "outputs": [
    {
     "name": "stdout",
     "output_type": "stream",
     "text": [
      "True\n",
      "False\n"
     ]
    }
   ],
   "source": [
    "# Storing true\n",
    "true_var = True\n",
    "print(true_var)\n",
    "\n",
    "# Storing false\n",
    "false_var = False\n",
    "print(false_var)"
   ]
  },
  {
   "cell_type": "markdown",
   "metadata": {},
   "source": [
    "Booleans also have an associated *numeric value* similar to binary digits:"
   ]
  },
  {
   "cell_type": "code",
   "execution_count": 21,
   "metadata": {},
   "outputs": [
    {
     "name": "stdout",
     "output_type": "stream",
     "text": [
      "True:  1\n",
      "False:  0\n"
     ]
    }
   ],
   "source": [
    "true_int = int(True)\n",
    "false_int = int(False)\n",
    "\n",
    "print(\"True: \", true_int)\n",
    "print(\"False: \", false_int)"
   ]
  },
  {
   "cell_type": "markdown",
   "metadata": {},
   "source": [
    "Because Booleans only exist in one of two values, there is a shortcut syntax for switching between the two."
   ]
  },
  {
   "cell_type": "code",
   "execution_count": 35,
   "metadata": {},
   "outputs": [
    {
     "name": "stdout",
     "output_type": "stream",
     "text": [
      "False\n"
     ]
    }
   ],
   "source": [
    "# Let's reverse True\n",
    "new_bool = not True\n",
    "print(new_bool)"
   ]
  },
  {
   "cell_type": "markdown",
   "metadata": {},
   "source": [
    "### Comparison Operators\n",
    "\n",
    "One of the most common situations you'll find Booleans are when you use **comparison operators**. As the name suggests, comparison operators state a relationship between two values and return a Boolean indicating whether it is true or false.\n",
    "\n",
    "There are six basic comparison operators in Python:\n",
    "\n",
    "<caption><b>Table 2:</b> List of comparison operators </caption>\n",
    "\n",
    "|           Name           | Operator Syntax |\n",
    "|:------------------------:|:---------------:|\n",
    "|         Equal to         |    `a == b`     |\n",
    "|       Not equal to       |    `a != b`     |\n",
    "|        Less than         |     `a < b`     |\n",
    "|  Less than or equal to   |    `a <= b`     |\n",
    "|       Greater than       |     `a > b`     |\n",
    "| Greater than or equal to |    `a >= b`     |"
   ]
  },
  {
   "cell_type": "code",
   "execution_count": 39,
   "metadata": {},
   "outputs": [
    {
     "name": "stdout",
     "output_type": "stream",
     "text": [
      "False\n",
      "True\n",
      "True\n",
      "True\n",
      "False\n",
      "False\n"
     ]
    }
   ],
   "source": [
    "# Examples of comparison operators\n",
    "print(2 == 3)\n",
    "print(2 != 3)\n",
    "print(2 < 3)\n",
    "print(2 <= 3)\n",
    "print(2 > 3)\n",
    "print(2 >= 3)"
   ]
  },
  {
   "cell_type": "markdown",
   "metadata": {},
   "source": [
    "Booleans (and the comparison operators) are most powerful when combined with more complex functionality and logic. While more complex examples are not provided in this module, other modules in this guide will provide many practical examples."
   ]
  }
 ],
 "metadata": {
  "kernelspec": {
   "display_name": "Python 3",
   "language": "python",
   "name": "python3"
  },
  "language_info": {
   "codemirror_mode": {
    "name": "ipython",
    "version": 3
   },
   "file_extension": ".py",
   "mimetype": "text/x-python",
   "name": "python",
   "nbconvert_exporter": "python",
   "pygments_lexer": "ipython3",
   "version": "3.8.5"
  }
 },
 "nbformat": 4,
 "nbformat_minor": 4
}
